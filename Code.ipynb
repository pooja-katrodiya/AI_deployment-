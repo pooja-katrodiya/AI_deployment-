{
 "cells": [
  {
   "cell_type": "code",
   "execution_count": 1,
   "id": "04ab7d7a",
   "metadata": {},
   "outputs": [
    {
     "name": "stdout",
     "output_type": "stream",
     "text": [
      "hello world\n"
     ]
    }
   ],
   "source": [
    "print('hello world')"
   ]
  },
  {
   "cell_type": "code",
   "execution_count": 2,
   "id": "7d021635",
   "metadata": {},
   "outputs": [
    {
     "name": "stdout",
     "output_type": "stream",
     "text": [
      "5712\n"
     ]
    }
   ],
   "source": [
    "print(4875+837)"
   ]
  },
  {
   "cell_type": "code",
   "execution_count": 3,
   "id": "a7fa42e3",
   "metadata": {},
   "outputs": [
    {
     "name": "stdout",
     "output_type": "stream",
     "text": [
      "hey there!!\n"
     ]
    }
   ],
   "source": [
    "print(\"hey there!!\")"
   ]
  },
  {
   "cell_type": "code",
   "execution_count": 4,
   "id": "fe2ff122",
   "metadata": {},
   "outputs": [
    {
     "name": "stdout",
     "output_type": "stream",
     "text": [
      "Hureyy!! Summer is coming!\n"
     ]
    }
   ],
   "source": [
    "print(\"Hureyy!! Summer is coming!\")"
   ]
  },
  {
   "cell_type": "code",
   "execution_count": null,
   "id": "df547a17",
   "metadata": {},
   "outputs": [],
   "source": []
  }
 ],
 "metadata": {
  "kernelspec": {
   "display_name": "Python 3 (ipykernel)",
   "language": "python",
   "name": "python3"
  },
  "language_info": {
   "codemirror_mode": {
    "name": "ipython",
    "version": 3
   },
   "file_extension": ".py",
   "mimetype": "text/x-python",
   "name": "python",
   "nbconvert_exporter": "python",
   "pygments_lexer": "ipython3",
   "version": "3.9.13"
  }
 },
 "nbformat": 4,
 "nbformat_minor": 5
}
